{
 "cells": [
  {
   "cell_type": "code",
   "execution_count": 1,
   "metadata": {},
   "outputs": [],
   "source": [
    "import pandas as pd\n",
    "import matplotlib.pyplot as plt\n",
    "%matplotlib inline"
   ]
  },
  {
   "cell_type": "code",
   "execution_count": 2,
   "metadata": {},
   "outputs": [],
   "source": [
    "from matplotlib import font_manager"
   ]
  },
  {
   "cell_type": "code",
   "execution_count": 3,
   "metadata": {},
   "outputs": [],
   "source": [
    "my_font = font_manager.FontProperties(fname=\"/System/Library/Fonts/ヒラギノ明朝 ProN.ttc\")#fontを得る\n"
   ]
  },
  {
   "cell_type": "code",
   "execution_count": 4,
   "metadata": {},
   "outputs": [],
   "source": [
    "x = [i for i in range(21)]\n",
    "\n",
    "for j in range(1,41):\n",
    "    a = j/5\n",
    "    a = a + 20\n",
    "    x.append(a)\n",
    "\n",
    "for i in range(28,36):\n",
    "    x.append(i)"
   ]
  },
  {
   "cell_type": "code",
   "execution_count": 5,
   "metadata": {},
   "outputs": [
    {
     "data": {
      "text/plain": [
       "[0,\n",
       " 1,\n",
       " 2,\n",
       " 3,\n",
       " 4,\n",
       " 5,\n",
       " 6,\n",
       " 7,\n",
       " 8,\n",
       " 9,\n",
       " 10,\n",
       " 11,\n",
       " 12,\n",
       " 13,\n",
       " 14,\n",
       " 15,\n",
       " 16,\n",
       " 17,\n",
       " 18,\n",
       " 19,\n",
       " 20,\n",
       " 20.2,\n",
       " 20.4,\n",
       " 20.6,\n",
       " 20.8,\n",
       " 21.0,\n",
       " 21.2,\n",
       " 21.4,\n",
       " 21.6,\n",
       " 21.8,\n",
       " 22.0,\n",
       " 22.2,\n",
       " 22.4,\n",
       " 22.6,\n",
       " 22.8,\n",
       " 23.0,\n",
       " 23.2,\n",
       " 23.4,\n",
       " 23.6,\n",
       " 23.8,\n",
       " 24.0,\n",
       " 24.2,\n",
       " 24.4,\n",
       " 24.6,\n",
       " 24.8,\n",
       " 25.0,\n",
       " 25.2,\n",
       " 25.4,\n",
       " 25.6,\n",
       " 25.8,\n",
       " 26.0,\n",
       " 26.2,\n",
       " 26.4,\n",
       " 26.6,\n",
       " 26.8,\n",
       " 27.0,\n",
       " 27.2,\n",
       " 27.4,\n",
       " 27.6,\n",
       " 27.8,\n",
       " 28.0,\n",
       " 28,\n",
       " 29,\n",
       " 30,\n",
       " 31,\n",
       " 32,\n",
       " 33,\n",
       " 34,\n",
       " 35]"
      ]
     },
     "execution_count": 5,
     "metadata": {},
     "output_type": "execute_result"
    }
   ],
   "source": [
    "x #滴下量[x]のリストを作る"
   ]
  },
  {
   "cell_type": "code",
   "execution_count": 6,
   "metadata": {},
   "outputs": [
    {
     "data": {
      "text/plain": [
       "[11.9,\n",
       " 11.88,\n",
       " 11.81,\n",
       " 11.73,\n",
       " 11.67,\n",
       " 11.59,\n",
       " 11.54,\n",
       " 11.47,\n",
       " 11.41,\n",
       " 11.34,\n",
       " 11.27,\n",
       " 11.19,\n",
       " 11.13,\n",
       " 10.07,\n",
       " 11.0,\n",
       " 10.89,\n",
       " 10.8,\n",
       " 10.73,\n",
       " 10.64,\n",
       " 10.55,\n",
       " 10.43,\n",
       " 10.4,\n",
       " 10.37,\n",
       " 10.35,\n",
       " 10.32,\n",
       " 10.26,\n",
       " 10.22,\n",
       " 10.19,\n",
       " 10.14,\n",
       " 10.1,\n",
       " 10.07,\n",
       " 10.03,\n",
       " 9.97,\n",
       " 9.9,\n",
       " 9.83,\n",
       " 9.76,\n",
       " 9.67,\n",
       " 9.57,\n",
       " 9.5,\n",
       " 9.39,\n",
       " 9.27,\n",
       " 9.11,\n",
       " 8.93,\n",
       " 8.71,\n",
       " 8.35,\n",
       " 6.7,\n",
       " 6.22,\n",
       " 5.46,\n",
       " 4.02,\n",
       " 3.71,\n",
       " 3.53,\n",
       " 3.41,\n",
       " 3.27,\n",
       " 3.18,\n",
       " 3.09,\n",
       " 3.05,\n",
       " 3.01,\n",
       " 2.95,\n",
       " 2.9,\n",
       " 2.86,\n",
       " 2.82,\n",
       " 2.64,\n",
       " 2.53,\n",
       " 2.42,\n",
       " 2.35,\n",
       " 2.28,\n",
       " 2.24,\n",
       " 2.19,\n",
       " 2.1]"
      ]
     },
     "execution_count": 6,
     "metadata": {},
     "output_type": "execute_result"
    }
   ],
   "source": [
    "y = [11.9, 11.88, 11.81, 11.73, 11.67, 11.59, 11.54, 11.47, 11.41, 11.34, 11.27, 11.19, 11.13,\n",
    "     10.07, 11.00, 10.89, 10.80, 10.73, 10.64, 10.55, 10.43, 10.40, 10.37, 10.35, 10.32, 10.26,\n",
    "     10.22, 10.19, 10.14, 10.10, 10.07, 10.03, 9.97, 9.90, 9.83, 9.76, 9.67, 9.57, 9.50, 9.39,\n",
    "     9.27, 9.11, 8.93, 8.71, 8.35, 6.70, 6.22, 5.46, 4.02, 3.71, 3.53, 3.41, 3.27, 3.18, 3.09,\n",
    "     3.05, 3.01, 2.95, 2.90, 2.86, 2.82, 2.64, 2.53, 2.42, 2.35,2.28, 2.24, 2.19, 2.10]\n",
    "y\n",
    "#PH[y]のリストを作る"
   ]
  },
  {
   "cell_type": "code",
   "execution_count": 7,
   "metadata": {},
   "outputs": [
    {
     "data": {
      "text/plain": [
       "[(0, 11.9),\n",
       " (1, 11.88),\n",
       " (2, 11.81),\n",
       " (3, 11.73),\n",
       " (4, 11.67),\n",
       " (5, 11.59),\n",
       " (6, 11.54),\n",
       " (7, 11.47),\n",
       " (8, 11.41),\n",
       " (9, 11.34),\n",
       " (10, 11.27),\n",
       " (11, 11.19),\n",
       " (12, 11.13),\n",
       " (13, 10.07),\n",
       " (14, 11.0),\n",
       " (15, 10.89),\n",
       " (16, 10.8),\n",
       " (17, 10.73),\n",
       " (18, 10.64),\n",
       " (19, 10.55),\n",
       " (20, 10.43),\n",
       " (20.2, 10.4),\n",
       " (20.4, 10.37),\n",
       " (20.6, 10.35),\n",
       " (20.8, 10.32),\n",
       " (21.0, 10.26),\n",
       " (21.2, 10.22),\n",
       " (21.4, 10.19),\n",
       " (21.6, 10.14),\n",
       " (21.8, 10.1),\n",
       " (22.0, 10.07),\n",
       " (22.2, 10.03),\n",
       " (22.4, 9.97),\n",
       " (22.6, 9.9),\n",
       " (22.8, 9.83),\n",
       " (23.0, 9.76),\n",
       " (23.2, 9.67),\n",
       " (23.4, 9.57),\n",
       " (23.6, 9.5),\n",
       " (23.8, 9.39),\n",
       " (24.0, 9.27),\n",
       " (24.2, 9.11),\n",
       " (24.4, 8.93),\n",
       " (24.6, 8.71),\n",
       " (24.8, 8.35),\n",
       " (25.0, 6.7),\n",
       " (25.2, 6.22),\n",
       " (25.4, 5.46),\n",
       " (25.6, 4.02),\n",
       " (25.8, 3.71),\n",
       " (26.0, 3.53),\n",
       " (26.2, 3.41),\n",
       " (26.4, 3.27),\n",
       " (26.6, 3.18),\n",
       " (26.8, 3.09),\n",
       " (27.0, 3.05),\n",
       " (27.2, 3.01),\n",
       " (27.4, 2.95),\n",
       " (27.6, 2.9),\n",
       " (27.8, 2.86),\n",
       " (28.0, 2.82),\n",
       " (28, 2.64),\n",
       " (29, 2.53),\n",
       " (30, 2.42),\n",
       " (31, 2.35),\n",
       " (32, 2.28),\n",
       " (33, 2.24),\n",
       " (34, 2.19),\n",
       " (35, 2.1)]"
      ]
     },
     "execution_count": 7,
     "metadata": {},
     "output_type": "execute_result"
    }
   ],
   "source": [
    "DataSet = list(zip(x, y))\n",
    "DataSet"
   ]
  },
  {
   "cell_type": "code",
   "execution_count": 8,
   "metadata": {},
   "outputs": [
    {
     "data": {
      "text/html": [
       "<div>\n",
       "<style scoped>\n",
       "    .dataframe tbody tr th:only-of-type {\n",
       "        vertical-align: middle;\n",
       "    }\n",
       "\n",
       "    .dataframe tbody tr th {\n",
       "        vertical-align: top;\n",
       "    }\n",
       "\n",
       "    .dataframe thead th {\n",
       "        text-align: right;\n",
       "    }\n",
       "</style>\n",
       "<table border=\"1\" class=\"dataframe\">\n",
       "  <thead>\n",
       "    <tr style=\"text-align: right;\">\n",
       "      <th></th>\n",
       "      <th>滴下量</th>\n",
       "      <th>PH</th>\n",
       "    </tr>\n",
       "  </thead>\n",
       "  <tbody>\n",
       "    <tr>\n",
       "      <th>0</th>\n",
       "      <td>0.0</td>\n",
       "      <td>11.90</td>\n",
       "    </tr>\n",
       "    <tr>\n",
       "      <th>1</th>\n",
       "      <td>1.0</td>\n",
       "      <td>11.88</td>\n",
       "    </tr>\n",
       "    <tr>\n",
       "      <th>2</th>\n",
       "      <td>2.0</td>\n",
       "      <td>11.81</td>\n",
       "    </tr>\n",
       "    <tr>\n",
       "      <th>3</th>\n",
       "      <td>3.0</td>\n",
       "      <td>11.73</td>\n",
       "    </tr>\n",
       "    <tr>\n",
       "      <th>4</th>\n",
       "      <td>4.0</td>\n",
       "      <td>11.67</td>\n",
       "    </tr>\n",
       "    <tr>\n",
       "      <th>...</th>\n",
       "      <td>...</td>\n",
       "      <td>...</td>\n",
       "    </tr>\n",
       "    <tr>\n",
       "      <th>64</th>\n",
       "      <td>31.0</td>\n",
       "      <td>2.35</td>\n",
       "    </tr>\n",
       "    <tr>\n",
       "      <th>65</th>\n",
       "      <td>32.0</td>\n",
       "      <td>2.28</td>\n",
       "    </tr>\n",
       "    <tr>\n",
       "      <th>66</th>\n",
       "      <td>33.0</td>\n",
       "      <td>2.24</td>\n",
       "    </tr>\n",
       "    <tr>\n",
       "      <th>67</th>\n",
       "      <td>34.0</td>\n",
       "      <td>2.19</td>\n",
       "    </tr>\n",
       "    <tr>\n",
       "      <th>68</th>\n",
       "      <td>35.0</td>\n",
       "      <td>2.10</td>\n",
       "    </tr>\n",
       "  </tbody>\n",
       "</table>\n",
       "<p>69 rows × 2 columns</p>\n",
       "</div>"
      ],
      "text/plain": [
       "     滴下量     PH\n",
       "0    0.0  11.90\n",
       "1    1.0  11.88\n",
       "2    2.0  11.81\n",
       "3    3.0  11.73\n",
       "4    4.0  11.67\n",
       "..   ...    ...\n",
       "64  31.0   2.35\n",
       "65  32.0   2.28\n",
       "66  33.0   2.24\n",
       "67  34.0   2.19\n",
       "68  35.0   2.10\n",
       "\n",
       "[69 rows x 2 columns]"
      ]
     },
     "execution_count": 8,
     "metadata": {},
     "output_type": "execute_result"
    }
   ],
   "source": [
    "df = pd.DataFrame(data = DataSet,  columns=[\"滴下量\", \"PH\"])\n",
    "df"
   ]
  },
  {
   "cell_type": "code",
   "execution_count": 9,
   "metadata": {},
   "outputs": [],
   "source": [
    "df.to_csv(\"滴定曲線.csv\", index=False) #csvに保存する"
   ]
  },
  {
   "cell_type": "code",
   "execution_count": 10,
   "metadata": {},
   "outputs": [
    {
     "data": {
      "text/html": [
       "<div>\n",
       "<style scoped>\n",
       "    .dataframe tbody tr th:only-of-type {\n",
       "        vertical-align: middle;\n",
       "    }\n",
       "\n",
       "    .dataframe tbody tr th {\n",
       "        vertical-align: top;\n",
       "    }\n",
       "\n",
       "    .dataframe thead th {\n",
       "        text-align: right;\n",
       "    }\n",
       "</style>\n",
       "<table border=\"1\" class=\"dataframe\">\n",
       "  <thead>\n",
       "    <tr style=\"text-align: right;\">\n",
       "      <th></th>\n",
       "      <th>滴下量</th>\n",
       "      <th>PH</th>\n",
       "    </tr>\n",
       "  </thead>\n",
       "  <tbody>\n",
       "    <tr>\n",
       "      <th>0</th>\n",
       "      <td>0.0</td>\n",
       "      <td>11.90</td>\n",
       "    </tr>\n",
       "    <tr>\n",
       "      <th>1</th>\n",
       "      <td>1.0</td>\n",
       "      <td>11.88</td>\n",
       "    </tr>\n",
       "    <tr>\n",
       "      <th>2</th>\n",
       "      <td>2.0</td>\n",
       "      <td>11.81</td>\n",
       "    </tr>\n",
       "    <tr>\n",
       "      <th>3</th>\n",
       "      <td>3.0</td>\n",
       "      <td>11.73</td>\n",
       "    </tr>\n",
       "    <tr>\n",
       "      <th>4</th>\n",
       "      <td>4.0</td>\n",
       "      <td>11.67</td>\n",
       "    </tr>\n",
       "    <tr>\n",
       "      <th>...</th>\n",
       "      <td>...</td>\n",
       "      <td>...</td>\n",
       "    </tr>\n",
       "    <tr>\n",
       "      <th>64</th>\n",
       "      <td>31.0</td>\n",
       "      <td>2.35</td>\n",
       "    </tr>\n",
       "    <tr>\n",
       "      <th>65</th>\n",
       "      <td>32.0</td>\n",
       "      <td>2.28</td>\n",
       "    </tr>\n",
       "    <tr>\n",
       "      <th>66</th>\n",
       "      <td>33.0</td>\n",
       "      <td>2.24</td>\n",
       "    </tr>\n",
       "    <tr>\n",
       "      <th>67</th>\n",
       "      <td>34.0</td>\n",
       "      <td>2.19</td>\n",
       "    </tr>\n",
       "    <tr>\n",
       "      <th>68</th>\n",
       "      <td>35.0</td>\n",
       "      <td>2.10</td>\n",
       "    </tr>\n",
       "  </tbody>\n",
       "</table>\n",
       "<p>69 rows × 2 columns</p>\n",
       "</div>"
      ],
      "text/plain": [
       "     滴下量     PH\n",
       "0    0.0  11.90\n",
       "1    1.0  11.88\n",
       "2    2.0  11.81\n",
       "3    3.0  11.73\n",
       "4    4.0  11.67\n",
       "..   ...    ...\n",
       "64  31.0   2.35\n",
       "65  32.0   2.28\n",
       "66  33.0   2.24\n",
       "67  34.0   2.19\n",
       "68  35.0   2.10\n",
       "\n",
       "[69 rows x 2 columns]"
      ]
     },
     "execution_count": 10,
     "metadata": {},
     "output_type": "execute_result"
    }
   ],
   "source": [
    "Location = \"滴定曲線.csv\"\n",
    "df = pd.read_csv(Location)\n",
    "df"
   ]
  },
  {
   "cell_type": "code",
   "execution_count": 11,
   "metadata": {},
   "outputs": [
    {
     "data": {
      "text/plain": [
       "滴下量    float64\n",
       "PH     float64\n",
       "dtype: object"
      ]
     },
     "execution_count": 11,
     "metadata": {},
     "output_type": "execute_result"
    }
   ],
   "source": [
    "df.dtypes"
   ]
  },
  {
   "cell_type": "code",
   "execution_count": 12,
   "metadata": {},
   "outputs": [
    {
     "data": {
      "text/plain": [
       "dtype('float64')"
      ]
     },
     "execution_count": 12,
     "metadata": {},
     "output_type": "execute_result"
    }
   ],
   "source": [
    "df[\"滴下量\"].dtype"
   ]
  },
  {
   "cell_type": "code",
   "execution_count": 13,
   "metadata": {},
   "outputs": [
    {
     "data": {
      "text/plain": [
       "11.9"
      ]
     },
     "execution_count": 13,
     "metadata": {},
     "output_type": "execute_result"
    }
   ],
   "source": [
    "df[\"PH\"].max() #PHの最大値は11.9"
   ]
  },
  {
   "cell_type": "code",
   "execution_count": 14,
   "metadata": {
    "scrolled": true
   },
   "outputs": [
    {
     "data": {
      "image/png": "[encoded data removed]",
      "text/plain": [
       "<Figure size 1600x640 with 1 Axes>"
      ]
     },
     "metadata": {
      "needs_background": "light"
     },
     "output_type": "display_data"
    },
    {
     "data": {
      "text/plain": [
       "<Figure size 1600x640 with 0 Axes>"
      ]
     },
     "metadata": {},
     "output_type": "display_data"
    }
   ],
   "source": [
    "#滴定曲線を描く、x軸を滴下量、y軸をPHとする\n",
    "plt.figure(figsize=(20,8), dpi=80)\n",
    "plt.title(\"滴定曲線\", fontproperties=my_font, size=24)\n",
    "plt.xlabel(\"滴下量[ml]\", fontproperties=my_font, size=24)\n",
    "plt.ylabel(\"PH\", size=24)\n",
    "plt.scatter(x, y, cmap='rainbow', marker='o', c=y, alpha=.5, s=100)\n",
    "plt.grid(True)\n",
    "plt.figure(figsize=(20,8), dpi=80)\n",
    "plt.savefig(\"滴定曲線.png\")\n",
    "plt.show()"
   ]
  }
 ],
 "metadata": {
  "kernelspec": {
   "display_name": "Python 3",
   "language": "python",
   "name": "python3"
  },
  "language_info": {
   "codemirror_mode": {
    "name": "ipython",
    "version": 3
   },
   "file_extension": ".py",
   "mimetype": "text/x-python",
   "name": "python",
   "nbconvert_exporter": "python",
   "pygments_lexer": "ipython3",
   "version": "3.8.3"
  }
 },
 "nbformat": 4,
 "nbformat_minor": 4
}
